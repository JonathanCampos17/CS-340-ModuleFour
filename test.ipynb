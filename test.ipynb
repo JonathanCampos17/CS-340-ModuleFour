{
 "cells": [
  {
   "cell_type": "code",
   "execution_count": 9,
   "id": "3d7d5c7e",
   "metadata": {},
   "outputs": [
    {
     "name": "stdout",
     "output_type": "stream",
     "text": [
      "Create Result: True\n",
      "Animals:\n",
      "{'_id': ObjectId('64728748b376d2963f505262'), 'age_upon_outcome': '3 years', 'name': 'Fluff', 'animal_type': 'Cat', 'breed': 'unknown', 'age': 3, 'color': 'White'}\n"
     ]
    }
   ],
   "source": [
    "from pymongo import MongoClient\n",
    "from bson.objectid import ObjectId\n",
    "from crud import AnimalShelter\n",
    "\n",
    "animal_shelter = AnimalShelter()\n",
    "\n",
    "\n",
    "# Define a data to insert\n",
    "animal_data = {\n",
    "    'age_upon_outcome': '3 years',\n",
    "    'name': 'Fluff',\n",
    "    'animal_type': 'Cat',\n",
    "    'breed': 'unknown',\n",
    "    'age': 3,\n",
    "    'color': 'White'\n",
    "}\n",
    "\n",
    "# Test the create method\n",
    "create_result = animal_shelter.create(animal_data)\n",
    "print(f\"Create Result: {create_result}\")\n",
    "\n",
    "# Define a query to find Fluff\n",
    "query =  { 'name': 'Fluff', 'animal_type': 'Cat','age':3}\n",
    "\n",
    "# Test the read method\n",
    "animals = animal_shelter.read(query)\n",
    "print(\"Animals:\")\n",
    "for animal in animals:\n",
    "    print(animal)\n"
   ]
  },
  {
   "cell_type": "code",
   "execution_count": null,
   "id": "a77c7b27",
   "metadata": {},
   "outputs": [],
   "source": []
  },
  {
   "cell_type": "code",
   "execution_count": null,
   "id": "5af1d046",
   "metadata": {},
   "outputs": [],
   "source": []
  }
 ],
 "metadata": {
  "kernelspec": {
   "display_name": "Python [conda env:root] *",
   "language": "python",
   "name": "conda-root-py"
  },
  "language_info": {
   "codemirror_mode": {
    "name": "ipython",
    "version": 3
   },
   "file_extension": ".py",
   "mimetype": "text/x-python",
   "name": "python",
   "nbconvert_exporter": "python",
   "pygments_lexer": "ipython3",
   "version": "3.9.12"
  }
 },
 "nbformat": 4,
 "nbformat_minor": 5
}
